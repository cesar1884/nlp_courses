{
  "cells": [
    {
      "cell_type": "code",
      "execution_count": 1,
      "metadata": {
        "id": "88NkI6KRpYwy"
      },
      "outputs": [],
      "source": [
        "%%capture\n",
        "!pip install --upgrade pip\n",
        "!pip install tensorflow numpy==1.16 sklearn matplotlib"
      ]
    },
    {
      "cell_type": "code",
      "execution_count": 2,
      "metadata": {
        "colab": {
          "base_uri": "https://localhost:8080/"
        },
        "id": "Sikp3g-9pYwz",
        "outputId": "f519ab10-8952-4e46-80c5-3389cab931f4"
      },
      "outputs": [
        {
          "name": "stderr",
          "output_type": "stream",
          "text": [
            "WARNING:tensorflow:From /usr/local/lib/python3.10/dist-packages/tensorflow/python/compat/v2_compat.py:107: disable_resource_variables (from tensorflow.python.ops.variable_scope) is deprecated and will be removed in a future version.\n",
            "Instructions for updating:\n",
            "non-resource variables are not supported in the long term\n"
          ]
        }
      ],
      "source": [
        "import tensorflow.compat.v1 as tf\n",
        "tf.disable_v2_behavior()\n",
        "import numpy as np"
      ]
    },
    {
      "cell_type": "code",
      "execution_count": 3,
      "metadata": {
        "id": "s77jKbWFpYw0"
      },
      "outputs": [],
      "source": [
        "corpus_raw = 'He is the king . The king is royal . She is the royal queen '\n",
        "corpus_raw = corpus_raw.lower()"
      ]
    },
    {
      "cell_type": "code",
      "execution_count": 4,
      "metadata": {
        "id": "whnA7StupYw0"
      },
      "outputs": [],
      "source": [
        "\n",
        "words = []\n",
        "# parse through the corpus and remove the dots\n",
        "for word in corpus_raw.split():\n",
        "    if word != '.':\n",
        "        words.append(word)\n",
        "\n",
        "\n",
        "# Convert words into integers and vice versa\n",
        "word2int = {}\n",
        "int2word = {}\n",
        "vocab_size = len(words)\n",
        "\n",
        "for i, word in enumerate(words):\n",
        "    # TODO 1: Fill in the logic for word2int and int2word mappings\n",
        "    # for example: word_to_int has words as keys and integers as value\n",
        "    word2int[word] = i\n",
        "    int2word[i] = word"
      ]
    },
    {
      "cell_type": "code",
      "execution_count": 5,
      "metadata": {
        "id": "LvZgW8-IpYw1"
      },
      "outputs": [],
      "source": [
        "# raw sentences is a list of sentences.\n",
        "raw_sentences = corpus_raw.split('.')\n",
        "sentences = []\n",
        "for sentence in raw_sentences:\n",
        "    sentences.append(sentence.split())"
      ]
    },
    {
      "cell_type": "code",
      "execution_count": 6,
      "metadata": {
        "id": "u2mAHARSpYw1"
      },
      "outputs": [],
      "source": [
        "WINDOW_SIZE = 2\n",
        "data = []\n",
        "for sentence in sentences:\n",
        "    for word_index, word in enumerate(sentence):\n",
        "        for nb_word in sentence[max(word_index - WINDOW_SIZE, 0) : min(word_index + WINDOW_SIZE, len(sentence)) + 1] :\n",
        "            if nb_word != word:\n",
        "                data.append([word, nb_word])"
      ]
    },
    {
      "cell_type": "markdown",
      "metadata": {
        "id": "4VdHgc_HpYw2"
      },
      "source": [
        "### ***What does the previous cell do ?***\n",
        "* ***Your** thoughts here*\n",
        "\n",
        "this cells find the 2 words that are around the actual word in a sentence"
      ]
    },
    {
      "cell_type": "code",
      "execution_count": 7,
      "metadata": {
        "id": "gdTNMTV0pYw5"
      },
      "outputs": [],
      "source": [
        "\n",
        "def to_one_hot(data_point_index, vocab_size):\n",
        "    # TODO 2: Implement the one-hot encoding function here.\n",
        "    # initialize a list of zeros equal to vocab_size\n",
        "    # turn this list into a one hot vector for the data_point_index\n",
        "    one_hot_vector = np.zeros(vocab_size)\n",
        "    one_hot_vector[data_point_index] = 1\n",
        "    return one_hot_vector\n"
      ]
    },
    {
      "cell_type": "code",
      "execution_count": 8,
      "metadata": {
        "id": "POUaqEAipYw5"
      },
      "outputs": [],
      "source": [
        "import numpy as np\n",
        "x_train = [] # input words\n",
        "y_train = [] # output words\n",
        "\n",
        "for data_word in data:\n",
        "    # TODO 3: Append appropriate one-hot encoded vectors to x_train and y_train\n",
        "    x_train.append(to_one_hot(word2int[data_word[0]], vocab_size))\n",
        "    y_train.append(to_one_hot(word2int[data_word[1]], vocab_size))\n"
      ]
    },
    {
      "cell_type": "code",
      "execution_count": 9,
      "metadata": {
        "id": "as3JLJUPpYw6"
      },
      "outputs": [],
      "source": [
        "\n",
        "# Convert lists to numpy arrays\n",
        "x_train = np.asarray(x_train)\n",
        "y_train = np.asarray(y_train)\n",
        "\n",
        "x = tf.placeholder(tf.float32, shape=(None, vocab_size))\n",
        "y_label = tf.placeholder(tf.float32, shape=(None, vocab_size))"
      ]
    },
    {
      "cell_type": "markdown",
      "metadata": {
        "id": "L7rz8x-spYw6"
      },
      "source": [
        "### ***What does the previous cell do ?***\n",
        "* ***Your** thoughts here*"
      ]
    },
    {
      "cell_type": "code",
      "execution_count": 12,
      "metadata": {
        "colab": {
          "base_uri": "https://localhost:8080/"
        },
        "id": "Bgx45Xu8pYw6",
        "outputId": "4a4eafc6-d26b-4b78-febe-53aca52362e5"
      },
      "outputs": [
        {
          "data": {
            "text/plain": [
              "(TensorShape([Dimension(13), Dimension(5)]),\n",
              " TensorShape([Dimension(1), Dimension(5)]),\n",
              " TensorShape([Dimension(5), Dimension(13)]),\n",
              " TensorShape([Dimension(1), Dimension(13)]))"
            ]
          },
          "execution_count": 12,
          "metadata": {},
          "output_type": "execute_result"
        }
      ],
      "source": [
        "\n",
        "EMBEDDING_DIM = 5\n",
        "\n",
        "# TODO 5: Initialize weight matrices W1 and W2 with random values, and biases b1 and b2.\n",
        "# Use tf.Variable and tf.random_normal with the appropriate shapes to initialize layers and biases\n",
        "# look at the slides if you don't remember the layer shapes\n",
        "\n",
        "# Initialize weight matrices W1 and W2 and biases b1 and b2 with random values\n",
        "W1 = tf.Variable(tf.random_normal([vocab_size, EMBEDDING_DIM]))\n",
        "b1 = tf.Variable(tf.random_normal([1, EMBEDDING_DIM]))\n",
        "W2 = tf.Variable(tf.random_normal([EMBEDDING_DIM, vocab_size]))\n",
        "b2 = tf.Variable(tf.random_normal([1, vocab_size]))\n",
        "\n",
        "x = tf.placeholder(tf.float32, shape=(None, vocab_size))\n",
        "hidden_layer = tf.add(tf.matmul(x, W1), b1)\n",
        "output_layer = tf.add(tf.matmul(hidden_layer, W2), b2)\n",
        "\n",
        "# For the sake of demonstration, let's just return the shapes of these initialized tensors\n",
        "W1.shape, b1.shape, W2.shape, b2.shape"
      ]
    },
    {
      "cell_type": "code",
      "execution_count": 15,
      "metadata": {
        "id": "jpeiitMTpYw6"
      },
      "outputs": [],
      "source": [
        "\n",
        "# TODO 6: Calculate the hidden representation of the word.\n",
        "# \"hidden representation\" means the value of the vector after the first layer\n",
        "# i.e. the vector within the latent space of the network\n",
        "# use tf.add and tf.matmul\n",
        "hidden_representation = tf.add(tf.matmul(x, W1), b1)"
      ]
    },
    {
      "cell_type": "code",
      "execution_count": 17,
      "metadata": {
        "id": "oL3EAAhopYw7"
      },
      "outputs": [],
      "source": [
        "\n",
        "# TODO 7: Compute the prediction, the output from the output layer.\n",
        "# hint: the prediction follows is the hidden representation passed through the second layer\n",
        "# don't forget to add the softmax to turn the outputs into a probability distribution\n",
        "# you may use tf.nn.softmax for that\n",
        "prediction = tf.nn.softmax(tf.add(tf.matmul(hidden_representation, W2), b2))"
      ]
    },
    {
      "cell_type": "code",
      "execution_count": 18,
      "metadata": {
        "id": "t36eqMiRpYw7"
      },
      "outputs": [],
      "source": [
        "sess = tf.Session()\n",
        "init = tf.global_variables_initializer()\n",
        "sess.run(init)"
      ]
    },
    {
      "cell_type": "markdown",
      "metadata": {
        "id": "2_x4rkD-pYw7"
      },
      "source": [
        "### ***What does the previous cell do ?***\n",
        "* ***Your** thoughts here*\n",
        "\n",
        "this cell is just the initialization of the tensorflow environment for the training"
      ]
    },
    {
      "cell_type": "code",
      "execution_count": 19,
      "metadata": {
        "id": "UMIBbMXapYw8"
      },
      "outputs": [],
      "source": [
        "# Define the loss function:\n",
        "loss = tf.reduce_mean(-tf.reduce_sum(y_label * tf.log(prediction), reduction_indices=[1]))"
      ]
    },
    {
      "cell_type": "markdown",
      "metadata": {
        "id": "Hgkag7wRpYw9"
      },
      "source": [
        "### ***Which loss function is this ?***\n",
        "* ***Your** thoughts here*\n",
        "\n",
        "cross entropy\n",
        "\n",
        "### ***Why do we use it here ?***\n",
        "* ***Your** thoughts here*\n",
        "\n",
        "we use this function as Word2Vec is a classification task and this loss function is the most intersting for these kind of task as it give a big penality to big mistake\n"
      ]
    },
    {
      "cell_type": "code",
      "execution_count": 20,
      "metadata": {
        "id": "nqpYBwGvpYw9"
      },
      "outputs": [],
      "source": [
        "\n",
        "# Define the training step:\n",
        "# TODO 10: Use an optimizer to minimize the loss.\n",
        "# look through the documentation:\n",
        "# https://www.tensorflow.org/api_docs/python/tf/compat/v1/train/GradientDescentOptimizer\n",
        "# tf.compat.v1 is replaced with tf in our code\n",
        "train_step = tf.train.GradientDescentOptimizer(0.1).minimize(loss)\n"
      ]
    },
    {
      "cell_type": "code",
      "execution_count": 21,
      "metadata": {
        "id": "8xWx3hCQpYw9"
      },
      "outputs": [],
      "source": [
        "\n",
        "n_iters = 10000\n",
        "\n",
        "for _ in range(n_iters):\n",
        "    sess.run(train_step, feed_dict={x: x_train, y_label: y_train})\n",
        "\n",
        "vectors = sess.run(W1 + b1)"
      ]
    },
    {
      "cell_type": "markdown",
      "metadata": {
        "id": "LPxUnNfXpYw-"
      },
      "source": [
        "### ***Reminder***\n",
        "\n",
        "Euclidian distance:\n",
        "$$ ||x-y||_2 = \\sqrt{ \\sum_{i=1}^{N} (x_i - y_i)^2 } $$"
      ]
    },
    {
      "cell_type": "code",
      "execution_count": 22,
      "metadata": {
        "id": "XO_jMEnWpYw-"
      },
      "outputs": [],
      "source": [
        "# TODO 11 (last one!): implement the euclidian distance function using numpy\n",
        "def euclidean_dist(vec1, vec2):\n",
        "    return np.linalg.norm(vec1 - vec2)"
      ]
    },
    {
      "cell_type": "markdown",
      "metadata": {
        "id": "pkEWDoqkpYw-"
      },
      "source": [
        "### ***What is TSNE ? How is it useful here ?***\n",
        "* ***Your** thoughts here*\n",
        "\n",
        "t-SNE is a dimensionality reduction technique to vizualize high dimensionality data\n",
        "In Word2Vec, it helps visualize word embeddings, showing how words relate in a 2D or 3D space."
      ]
    },
    {
      "cell_type": "code",
      "execution_count": 30,
      "metadata": {
        "colab": {
          "base_uri": "https://localhost:8080/"
        },
        "id": "n9RCpwCqpYw_",
        "outputId": "986382ea-430a-4c42-c401-a3bc2ad37788"
      },
      "outputs": [
        {
          "name": "stdout",
          "output_type": "stream",
          "text": [
            "[[ 0.97229207  0.23376942]\n",
            " [ 0.99907273 -0.04305368]\n",
            " [-0.8097168  -0.58682084]\n",
            " [-0.8501724  -0.52650446]\n",
            " [ 0.9920233   0.12605458]\n",
            " [-0.09680346  0.9953035 ]\n",
            " [-0.81534034 -0.5789819 ]\n",
            " [-0.19075881  0.9816369 ]\n",
            " [ 0.941333    0.33747923]\n",
            " [ 0.90292525 -0.42979765]\n",
            " [-0.66969067 -0.74264026]\n",
            " [-0.61775947 -0.7863671 ]\n",
            " [-0.12659913  0.9919539 ]]\n"
          ]
        }
      ],
      "source": [
        "from sklearn.manifold import TSNE\n",
        "\n",
        "model = TSNE(n_components=2, perplexity=2, random_state=0)\n",
        "np.set_printoptions(suppress=True)\n",
        "vectors = model.fit_transform(vectors)\n",
        "\n",
        "from sklearn import preprocessing\n",
        "\n",
        "normalizer = preprocessing.Normalizer()\n",
        "vectors =  normalizer.fit_transform(vectors, 'l2')\n",
        "\n",
        "print(vectors)"
      ]
    },
    {
      "cell_type": "code",
      "execution_count": 31,
      "metadata": {
        "colab": {
          "base_uri": "https://localhost:8080/",
          "height": 668
        },
        "id": "7xBPVXq2pYw_",
        "outputId": "d80f8c2a-80f6-44fd-a772-a791c9ddad5a"
      },
      "outputs": [
        {
          "name": "stdout",
          "output_type": "stream",
          "text": [
            "['he', 'is', 'the', 'king', 'the', 'king', 'is', 'royal', 'she', 'is', 'the', 'royal', 'queen']\n",
            "he 0.23376942\n",
            "is -0.42979765\n",
            "the -0.74264026\n",
            "king 0.9953035\n",
            "the -0.74264026\n",
            "king 0.9953035\n",
            "is -0.42979765\n",
            "royal -0.7863671\n",
            "she 0.33747923\n",
            "is -0.42979765\n",
            "the -0.74264026\n",
            "royal -0.7863671\n",
            "queen 0.9919539\n"
          ]
        },
        {
          "data": {
            "image/png": "[encoded data removed]",
            "text/plain": [
              "<Figure size 640x480 with 1 Axes>"
            ]
          },
          "metadata": {},
          "output_type": "display_data"
        }
      ],
      "source": [
        "import matplotlib.pyplot as plt\n",
        "\n",
        "fig, ax = plt.subplots()\n",
        "print(words)\n",
        "for word in words:\n",
        "    print(word, vectors[word2int[word]][1])\n",
        "    ax.annotate(word, (vectors[word2int[word]][0],vectors[word2int[word]][1] ))\n",
        "    ax.set_xlim(min([vectors[word2int[w]][0] for w in words])-1, max([vectors[word2int[w]][0] for w in words])+1)\n",
        "    ax.set_ylim(min([vectors[word2int[w]][1] for w in words])-1, max([vectors[word2int[w]][1] for w in words])+1)\n",
        "plt.show()"
      ]
    },
    {
      "cell_type": "markdown",
      "metadata": {
        "id": "7OpzYWtFpYxA"
      },
      "source": [
        "### ***You should see something similar:***\n",
        "<img src=\"word_2_vec_result.png\">"
      ]
    },
    {
      "cell_type": "markdown",
      "metadata": {
        "id": "gCC4fQKwpYxA"
      },
      "source": [
        "### ***Comment on what you've understood from this course***\n",
        "For example:\n",
        "* What is word2vec ?\n",
        "* Why is it an improvement on BoW and TF-IDF\n",
        "* What is an encoder network, can you imagine an example to illustrate this notion ?\n",
        "\n",
        "Word2Vec creates vectors for words, capturing semantic relationships.\n",
        "Unlike BoW and TF-IDF, which don't capture semantics, Word2Vec understands context and meaning.\n",
        "An encoder network transforms input data into a compact form called a latent representation.\n",
        "Example: In a movie recommendation system, an encoder might compress a user's movie ratings into a small vector, which can then be used to find similar users.\n",
        "\n"
      ]
    }
  ],
  "metadata": {
    "colab": {
      "provenance": []
    },
    "kernelspec": {
      "display_name": "Python 3",
      "language": "python",
      "name": "python3"
    },
    "language_info": {
      "codemirror_mode": {
        "name": "ipython",
        "version": 3
      },
      "file_extension": ".py",
      "mimetype": "text/x-python",
      "name": "python",
      "nbconvert_exporter": "python",
      "pygments_lexer": "ipython3",
      "version": "3.10.7"
    }
  },
  "nbformat": 4,
  "nbformat_minor": 0
}
